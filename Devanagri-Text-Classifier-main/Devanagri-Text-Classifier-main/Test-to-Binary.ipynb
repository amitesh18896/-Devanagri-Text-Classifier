{
 "cells": [
  {
   "cell_type": "code",
   "execution_count": 3,
   "id": "2d54097d",
   "metadata": {},
   "outputs": [],
   "source": [
    "import os\n",
    "import numpy as np\n",
    "import os\n",
    "from PIL import Image\n",
    "import tensorflow as tf\n",
    "from matplotlib import pyplot as plt\n",
    "\n",
    "# save numpy array as csv file\n",
    "from numpy import asarray\n",
    "from numpy import savetxt\n",
    "\n",
    "import csv\n",
    "import pickle"
   ]
  },
  {
   "cell_type": "code",
   "execution_count": 4,
   "id": "4d77c629",
   "metadata": {},
   "outputs": [],
   "source": [
    "with open(\"StrToNum.txt\", \"rb\") as myFile:\n",
    "    StrToNum = pickle.load(myFile)\n",
    "with open(\"NumToStr.txt\", \"rb\") as myFile:\n",
    "    NumToStr = pickle.load(myFile)"
   ]
  },
  {
   "cell_type": "code",
   "execution_count": 21,
   "id": "603dcf4e",
   "metadata": {},
   "outputs": [],
   "source": [
    "finalTestImgData = []\n",
    "finalClassName = []\n",
    "IMG_WIDTH=32\n",
    "IMG_HEIGHT=32"
   ]
  },
  {
   "cell_type": "code",
   "execution_count": 20,
   "id": "319f183d",
   "metadata": {},
   "outputs": [],
   "source": [
    "def create_dataset_PIL(img_folder):\n",
    "    global finalTestImgData\n",
    "    global finalClassName\n",
    "    for dir1 in os.listdir(img_folder):\n",
    "        print(dir1)\n",
    "        for file in os.listdir(os.path.join(img_folder, dir1)):  \n",
    "            image_path= os.path.join(img_folder, dir1,  file)\n",
    "            image= np.array(Image.open(image_path))\n",
    "            image= np.resize(image,(IMG_HEIGHT,IMG_WIDTH))\n",
    "            image = image.astype('float32')\n",
    "            image /= 255  \n",
    "            finalTestImgData=np.append(finalTestImgData,image)\n",
    "            finalClassName=np.append(finalClassName,StrToNum[dir1])"
   ]
  },
  {
   "cell_type": "code",
   "execution_count": 22,
   "id": "16f24598",
   "metadata": {},
   "outputs": [
    {
     "name": "stdout",
     "output_type": "stream",
     "text": [
      "character_1_ka\n",
      "character_2_kha\n",
      "character_3_ga\n",
      "character_4_gha\n",
      "character_5_kna\n",
      "(1536000,)\n",
      "(1500,)\n",
      "[ 8.  9. 10. 11. 12.]\n"
     ]
    }
   ],
   "source": [
    "img_test_folder = 'D:\\AIML\\Devanagri dataset\\DevanagariHandwrittenCharacterDataset\\Test\\First 5'\n",
    "create_dataset_PIL(img_test_folder)\n",
    "print(finalTestImgData.shape)\n",
    "print(finalClassName.shape)\n",
    "print(np.unique(finalClassName))"
   ]
  },
  {
   "cell_type": "code",
   "execution_count": 23,
   "id": "9df62162",
   "metadata": {},
   "outputs": [
    {
     "name": "stdout",
     "output_type": "stream",
     "text": [
      "character_10_yna\n",
      "character_6_cha\n",
      "character_7_chha\n",
      "character_8_ja\n",
      "character_9_jha\n",
      "(3072000,)\n",
      "(3000,)\n",
      "[ 7.  8.  9. 10. 11. 12. 13. 14. 15. 16.]\n"
     ]
    }
   ],
   "source": [
    "img_test_folder = 'D:\\AIML\\Devanagri dataset\\DevanagariHandwrittenCharacterDataset\\Test\\Second 5'\n",
    "create_dataset_PIL(img_test_folder)\n",
    "print(finalTestImgData.shape)\n",
    "print(finalClassName.shape)\n",
    "print(np.unique(finalClassName))"
   ]
  },
  {
   "cell_type": "code",
   "execution_count": 24,
   "id": "9498c992",
   "metadata": {},
   "outputs": [
    {
     "name": "stdout",
     "output_type": "stream",
     "text": [
      "character_11_taamatar\n",
      "character_12_thaa\n",
      "character_13_daa\n",
      "character_14_dhaa\n",
      "character_15_adna\n",
      "(4608000,)\n",
      "(4500,)\n",
      "[ 7.  8.  9. 10. 11. 12. 13. 14. 15. 16. 37. 38. 39. 40. 41.]\n"
     ]
    }
   ],
   "source": [
    "img_test_folder = 'D:\\AIML\\Devanagri dataset\\DevanagariHandwrittenCharacterDataset\\Test\\Third 5'\n",
    "create_dataset_PIL(img_test_folder)\n",
    "print(finalTestImgData.shape)\n",
    "print(finalClassName.shape)\n",
    "print(np.unique(finalClassName))"
   ]
  },
  {
   "cell_type": "code",
   "execution_count": 25,
   "id": "9083a5ae",
   "metadata": {},
   "outputs": [
    {
     "name": "stdout",
     "output_type": "stream",
     "text": [
      "character_16_tabala\n",
      "character_17_tha\n",
      "character_18_da\n",
      "character_19_dha\n",
      "character_20_na\n",
      "(6144000,)\n",
      "(6000,)\n",
      "[ 7.  8.  9. 10. 11. 12. 13. 14. 15. 16. 37. 38. 39. 40. 41. 42. 43. 44.\n",
      " 45. 46.]\n"
     ]
    }
   ],
   "source": [
    "img_test_folder = 'D:\\AIML\\Devanagri dataset\\DevanagariHandwrittenCharacterDataset\\Test\\Fourth 5'\n",
    "create_dataset_PIL(img_test_folder)\n",
    "print(finalTestImgData.shape)\n",
    "print(finalClassName.shape)\n",
    "print(np.unique(finalClassName))"
   ]
  },
  {
   "cell_type": "code",
   "execution_count": 26,
   "id": "3fe63830",
   "metadata": {},
   "outputs": [
    {
     "name": "stdout",
     "output_type": "stream",
     "text": [
      "character_21_pa\n",
      "character_22_pha\n",
      "character_23_ba\n",
      "character_24_bha\n",
      "character_25_ma\n",
      "(7680000,)\n",
      "(7500,)\n",
      "[ 7.  8.  9. 10. 11. 12. 13. 14. 15. 16. 17. 18. 19. 20. 21. 37. 38. 39.\n",
      " 40. 41. 42. 43. 44. 45. 46.]\n"
     ]
    }
   ],
   "source": [
    "img_test_folder = 'D:\\AIML\\Devanagri dataset\\DevanagariHandwrittenCharacterDataset\\Test\\Fifth 5'\n",
    "create_dataset_PIL(img_test_folder)\n",
    "print(finalTestImgData.shape)\n",
    "print(finalClassName.shape)\n",
    "print(np.unique(finalClassName))"
   ]
  },
  {
   "cell_type": "code",
   "execution_count": 27,
   "id": "fb04c014",
   "metadata": {},
   "outputs": [
    {
     "name": "stdout",
     "output_type": "stream",
     "text": [
      "character_26_yaw\n",
      "character_27_ra\n",
      "character_28_la\n",
      "character_29_waw\n",
      "character_30_motosaw\n",
      "(9216000,)\n",
      "(9000,)\n",
      "[ 7.  8.  9. 10. 11. 12. 13. 14. 15. 16. 17. 18. 19. 20. 21. 22. 23. 24.\n",
      " 25. 26. 37. 38. 39. 40. 41. 42. 43. 44. 45. 46.]\n"
     ]
    }
   ],
   "source": [
    "img_test_folder = 'D:\\AIML\\Devanagri dataset\\DevanagariHandwrittenCharacterDataset\\Test\\Sixth 5'\n",
    "create_dataset_PIL(img_test_folder)\n",
    "print(finalTestImgData.shape)\n",
    "print(finalClassName.shape)\n",
    "print(np.unique(finalClassName))"
   ]
  },
  {
   "cell_type": "code",
   "execution_count": 28,
   "id": "e4a7602f",
   "metadata": {},
   "outputs": [
    {
     "name": "stdout",
     "output_type": "stream",
     "text": [
      "character_31_petchiryakha\n",
      "character_32_patalosaw\n",
      "character_33_ha\n",
      "character_34_chhya\n",
      "character_35_tra\n",
      "character_36_gya\n",
      "(11059200,)\n",
      "(10800,)\n",
      "[ 1.  2.  3.  4.  5.  6.  7.  8.  9. 10. 11. 12. 13. 14. 15. 16. 17. 18.\n",
      " 19. 20. 21. 22. 23. 24. 25. 26. 37. 38. 39. 40. 41. 42. 43. 44. 45. 46.]\n"
     ]
    }
   ],
   "source": [
    "img_test_folder = 'D:\\AIML\\Devanagri dataset\\DevanagariHandwrittenCharacterDataset\\Test\\Seventh 5'\n",
    "create_dataset_PIL(img_test_folder)\n",
    "print(finalTestImgData.shape)\n",
    "print(finalClassName.shape)\n",
    "print(np.unique(finalClassName))"
   ]
  },
  {
   "cell_type": "code",
   "execution_count": 29,
   "id": "56f2fec0",
   "metadata": {},
   "outputs": [
    {
     "name": "stdout",
     "output_type": "stream",
     "text": [
      "digit_0\n",
      "digit_1\n",
      "digit_2\n",
      "digit_3\n",
      "digit_4\n",
      "(12595200,)\n",
      "(12300,)\n",
      "[ 1.  2.  3.  4.  5.  6.  7.  8.  9. 10. 11. 12. 13. 14. 15. 16. 17. 18.\n",
      " 19. 20. 21. 22. 23. 24. 25. 26. 27. 28. 29. 30. 31. 37. 38. 39. 40. 41.\n",
      " 42. 43. 44. 45. 46.]\n"
     ]
    }
   ],
   "source": [
    "img_test_folder = 'D:\\AIML\\Devanagri dataset\\DevanagariHandwrittenCharacterDataset\\Test\\Eighth 5'\n",
    "create_dataset_PIL(img_test_folder)\n",
    "print(finalTestImgData.shape)\n",
    "print(finalClassName.shape)\n",
    "print(np.unique(finalClassName))"
   ]
  },
  {
   "cell_type": "code",
   "execution_count": 32,
   "id": "fbc4d183",
   "metadata": {},
   "outputs": [
    {
     "name": "stdout",
     "output_type": "stream",
     "text": [
      "digit_5\n",
      "digit_6\n",
      "digit_7\n",
      "digit_8\n",
      "digit_9\n",
      "(14131200,)\n",
      "(13800,)\n",
      "[ 1.  2.  3.  4.  5.  6.  7.  8.  9. 10. 11. 12. 13. 14. 15. 16. 17. 18.\n",
      " 19. 20. 21. 22. 23. 24. 25. 26. 27. 28. 29. 30. 31. 32. 33. 34. 35. 36.\n",
      " 37. 38. 39. 40. 41. 42. 43. 44. 45. 46.]\n"
     ]
    }
   ],
   "source": [
    "img_test_folder = 'D:\\AIML\\Devanagri dataset\\DevanagariHandwrittenCharacterDataset\\Test\\\\Ninth 5'\n",
    "create_dataset_PIL(img_test_folder)\n",
    "print(finalTestImgData.shape)\n",
    "print(finalClassName.shape)\n",
    "print(np.unique(finalClassName))"
   ]
  },
  {
   "cell_type": "code",
   "execution_count": 33,
   "id": "39d7b7e5",
   "metadata": {},
   "outputs": [],
   "source": [
    "finalTestImgData=np.resize(finalTestImgData,(len(finalClassName),32,32))"
   ]
  },
  {
   "cell_type": "code",
   "execution_count": 43,
   "id": "2b5fb758",
   "metadata": {
    "scrolled": true
   },
   "outputs": [
    {
     "name": "stdout",
     "output_type": "stream",
     "text": [
      "(13800, 32, 32)\n",
      "[ 7.  7.  7. ... 35. 35. 35.]\n",
      "[ 0  1  2  3  4  5  6  7  8  9 10 11 12 13 14 15 16 17 18 19 20 21 22 23\n",
      " 24 25 26 27 28 29 30 31 32 33 34 35 36 37 38 39 40 41 42 43 44 45]\n"
     ]
    }
   ],
   "source": [
    "print(finalTestImgData.shape)\n",
    "#finalClassName-=1\n",
    "print(finalClassName)\n",
    "finalClassName=finalClassName.astype('int64')\n",
    "print(np.unique(finalClassName))"
   ]
  },
  {
   "cell_type": "code",
   "execution_count": 44,
   "id": "cc5139f3",
   "metadata": {},
   "outputs": [],
   "source": [
    "# save numpy array as npy file\n",
    "from numpy import asarray\n",
    "from numpy import save\n",
    "# define data\n",
    "# save to npy file\n",
    "save('finalTestImgData.npy', finalTestImgData)\n",
    "save('finalTestClassName.npy', finalClassName)"
   ]
  },
  {
   "cell_type": "code",
   "execution_count": 45,
   "id": "dcd3a7ba",
   "metadata": {},
   "outputs": [
    {
     "name": "stdout",
     "output_type": "stream",
     "text": [
      "(13800, 32, 32)\n",
      "(13800,)\n",
      "[ 0  1  2  3  4  5  6  7  8  9 10 11 12 13 14 15 16 17 18 19 20 21 22 23\n",
      " 24 25 26 27 28 29 30 31 32 33 34 35 36 37 38 39 40 41 42 43 44 45]\n"
     ]
    }
   ],
   "source": [
    "# load numpy array from npy file\n",
    "from numpy import load\n",
    "# load array\n",
    "testData = load('finalTestImgData.npy')\n",
    "testLabels = load('finalTestClassName.npy')\n",
    "# print the array\n",
    "print(testData.shape)\n",
    "print(testLabels.shape)\n",
    "print(np.unique(testLabels))"
   ]
  },
  {
   "cell_type": "code",
   "execution_count": 46,
   "id": "3da2cec0",
   "metadata": {},
   "outputs": [
    {
     "name": "stdout",
     "output_type": "stream",
     "text": [
      "43\n",
      "character_18_da\n",
      "28\n",
      "digit_2\n",
      "43\n",
      "character_18_da\n",
      "32\n",
      "digit_6\n",
      "22\n",
      "character_27_ra\n",
      "40\n",
      "character_15_adna\n",
      "26\n",
      "digit_0\n",
      "4\n",
      "character_35_tra\n"
     ]
    },
    {
     "data": {
      "image/png": "[encoded data removed]",
      "text/plain": [
       "<Figure size 432x288 with 8 Axes>"
      ]
     },
     "metadata": {
      "needs_background": "light"
     },
     "output_type": "display_data"
    }
   ],
   "source": [
    "import random\n",
    "for i in range(8):\n",
    "    r=random.randint(0, 13800)\n",
    "    print(testLabels[r])\n",
    "    print(NumToStr[testLabels[r]+1])\n",
    "    plt.subplot(241+i)\n",
    "    plt.imshow(testData[r])"
   ]
  },
  {
   "cell_type": "code",
   "execution_count": null,
   "id": "8825d41a",
   "metadata": {},
   "outputs": [],
   "source": []
  }
 ],
 "metadata": {
  "kernelspec": {
   "display_name": "Python 3 (ipykernel)",
   "language": "python",
   "name": "python3"
  },
  "language_info": {
   "codemirror_mode": {
    "name": "ipython",
    "version": 3
   },
   "file_extension": ".py",
   "mimetype": "text/x-python",
   "name": "python",
   "nbconvert_exporter": "python",
   "pygments_lexer": "ipython3",
   "version": "3.9.7"
  }
 },
 "nbformat": 4,
 "nbformat_minor": 5
}
