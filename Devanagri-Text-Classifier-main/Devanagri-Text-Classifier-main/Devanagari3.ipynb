{
  "nbformat": 4,
  "nbformat_minor": 0,
  "metadata": {
    "colab": {
      "name": "Devanagari3.ipynb",
      "provenance": [],
      "authorship_tag": "ABX9TyPNrXjOcUmmQI86eoPeUuwN",
      "include_colab_link": true
    },
    "kernelspec": {
      "name": "python3",
      "display_name": "Python 3"
    },
    "language_info": {
      "name": "python"
    }
  },
  "cells": [
    {
      "cell_type": "markdown",
      "metadata": {
        "id": "view-in-github",
        "colab_type": "text"
      },
      "source": [
        "<a href=\"https://colab.research.google.com/github/Chandigarh-University-students/Devanagri-Text-Classifier/blob/main/Devanagari3.ipynb\" target=\"_parent\"><img src=\"https://colab.research.google.com/assets/colab-badge.svg\" alt=\"Open In Colab\"/></a>"
      ]
    },
    {
      "cell_type": "code",
      "metadata": {
        "id": "SOqcJgO0c6RI"
      },
      "source": [
        "from google.colab import drive"
      ],
      "execution_count": 1,
      "outputs": []
    },
    {
      "cell_type": "code",
      "metadata": {
        "colab": {
          "base_uri": "https://localhost:8080/"
        },
        "id": "5XgdMQyrdBcH",
        "outputId": "dfd6d551-b488-4772-da61-bf9e9646fddc"
      },
      "source": [
        "drive.mount('/content/drive')"
      ],
      "execution_count": 2,
      "outputs": [
        {
          "output_type": "stream",
          "name": "stdout",
          "text": [
            "Mounted at /content/drive\n"
          ]
        }
      ]
    },
    {
      "cell_type": "code",
      "metadata": {
        "id": "ZJUoP84XdFi-"
      },
      "source": [
        "import numpy as np\n",
        "import os\n",
        "from PIL import Image\n",
        "import tensorflow as tf\n",
        "from matplotlib import pyplot as plt"
      ],
      "execution_count": 4,
      "outputs": []
    },
    {
      "cell_type": "code",
      "metadata": {
        "id": "ZtvFQdGMdM_8"
      },
      "source": [
        "IMG_WIDTH=32\n",
        "IMG_HEIGHT=32\n",
        "img_train_folder = '/content/drive/MyDrive/Devanagri dataset/DevanagariHandwrittenCharacterDataset/Train'"
      ],
      "execution_count": 6,
      "outputs": []
    },
    {
      "cell_type": "code",
      "metadata": {
        "id": "nBJvC8zXd3dj"
      },
      "source": [
        "count=1\n",
        "StrToNum={}\n",
        "NumToStr={}\n",
        "for dir1 in os.listdir(img_train_folder):\n",
        "  StrToNum[dir1]=count\n",
        "  NumToStr[count]=dir1\n",
        "  count=count+1"
      ],
      "execution_count": 12,
      "outputs": []
    },
    {
      "cell_type": "code",
      "metadata": {
        "id": "zUAMZ4sOdWNk"
      },
      "source": [
        "def create_dataset_PIL(img_folder):\n",
        "    \n",
        "    img_data_array=np.array([])\n",
        "    class_name=np.array([])\n",
        "    for dir1 in os.listdir(img_folder):\n",
        "        for file in os.listdir(os.path.join(img_folder, dir1)):       \n",
        "            image_path= os.path.join(img_folder, dir1,  file)\n",
        "            image= np.array(Image.open(image_path))\n",
        "            image = image.astype('float32')\n",
        "            image /= 255  \n",
        "            img_data_array=np.append(img_data_array,image)\n",
        "            class_name=np.append(class_name,StrToNum[dir1])\n",
        "    return img_data_array , class_name"
      ],
      "execution_count": 17,
      "outputs": []
    },
    {
      "cell_type": "code",
      "metadata": {
        "id": "WR8X6_uOh3dA"
      },
      "source": [
        "PIL_train_img_data, train_class_name=create_dataset_PIL(img_train_folder)\n"
      ],
      "execution_count": null,
      "outputs": []
    },
    {
      "cell_type": "code",
      "metadata": {
        "id": "rbQlp01iiZJs"
      },
      "source": [
        "print(PIL_train_img_data.shape)\n",
        "print(train_class_name.shape)\n",
        "print(train_class_name)"
      ],
      "execution_count": null,
      "outputs": []
    },
    {
      "cell_type": "code",
      "metadata": {
        "id": "sQcHVCKWh4Cd"
      },
      "source": [
        "for i in range(9):\n",
        "\t# define subplot\n",
        "\tplt.subplot(330 + 1 + i)\n",
        "\t# plot raw pixel data\n",
        "\tplt.imshow(PIL_train_img_data[i])"
      ],
      "execution_count": null,
      "outputs": []
    },
    {
      "cell_type": "code",
      "metadata": {
        "id": "OPbCwU7JizmX"
      },
      "source": [
        "model = tf.keras.models.Sequential([tf.keras.layers.Flatten(input_shape=(32,32)), \n",
        "                                    tf.keras.layers.Dense(128, activation='relu'), \n",
        "                                    tf.keras.layers.Dense(46, activation=tf.nn.softmax)])"
      ],
      "execution_count": null,
      "outputs": []
    },
    {
      "cell_type": "code",
      "metadata": {
        "id": "sX8YlzQsi3ve"
      },
      "source": [
        "model.compile(optimizer = 'adam',\n",
        "              loss = 'sparse_categorical_crossentropy',\n",
        "              metrics=['accuracy'])"
      ],
      "execution_count": null,
      "outputs": []
    },
    {
      "cell_type": "code",
      "metadata": {
        "id": "dH8r3obei7Do"
      },
      "source": [
        "model.fit(PIL_train_img_data, train_class_name , epochs=5)"
      ],
      "execution_count": null,
      "outputs": []
    },
    {
      "cell_type": "code",
      "metadata": {
        "id": "HmsZD974jeHH"
      },
      "source": [
        "PIL_test_img_data, test_class_name=create_dataset_PIL(\"/content/drive/MyDrive/Devanagri dataset/DevanagariHandwrittenCharacterDataset/Test\")\n"
      ],
      "execution_count": null,
      "outputs": []
    }
  ]
}