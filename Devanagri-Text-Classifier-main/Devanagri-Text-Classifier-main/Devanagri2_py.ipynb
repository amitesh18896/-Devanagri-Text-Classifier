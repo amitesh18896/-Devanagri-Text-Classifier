{
  "nbformat": 4,
  "nbformat_minor": 0,
  "metadata": {
    "colab": {
      "name": "Devanagri2.py",
      "provenance": [],
      "collapsed_sections": [],
      "authorship_tag": "ABX9TyPveNYE+syVQ6p7oY/NPm/1",
      "include_colab_link": true
    },
    "kernelspec": {
      "name": "python3",
      "display_name": "Python 3"
    },
    "language_info": {
      "name": "python"
    }
  },
  "cells": [
    {
      "cell_type": "markdown",
      "metadata": {
        "id": "view-in-github",
        "colab_type": "text"
      },
      "source": [
        "<a href=\"https://colab.research.google.com/github/Chandigarh-University-students/Devanagri-Text-Classifier/blob/main/Devanagri2_py.ipynb\" target=\"_parent\"><img src=\"https://colab.research.google.com/assets/colab-badge.svg\" alt=\"Open In Colab\"/></a>"
      ]
    },
    {
      "cell_type": "code",
      "metadata": {
        "id": "-WIVeDCUZeRN"
      },
      "source": [
        "from google.colab import drive"
      ],
      "execution_count": 1,
      "outputs": []
    },
    {
      "cell_type": "code",
      "metadata": {
        "colab": {
          "base_uri": "https://localhost:8080/"
        },
        "id": "uvoC35AcZ8Em",
        "outputId": "a3a88909-908e-4371-b275-0e8a33dc45fe"
      },
      "source": [
        "drive.mount('/content/drive')"
      ],
      "execution_count": 2,
      "outputs": [
        {
          "output_type": "stream",
          "name": "stdout",
          "text": [
            "Mounted at /content/drive\n"
          ]
        }
      ]
    },
    {
      "cell_type": "code",
      "metadata": {
        "id": "yynFGm6NabHZ"
      },
      "source": [
        "import numpy as np\n",
        "import os"
      ],
      "execution_count": 3,
      "outputs": []
    },
    {
      "cell_type": "code",
      "metadata": {
        "id": "3EAQlFAxbCDS"
      },
      "source": [
        "from PIL import Image\n"
      ],
      "execution_count": 4,
      "outputs": []
    },
    {
      "cell_type": "code",
      "metadata": {
        "id": "I-WMK4lBbVGX"
      },
      "source": [
        "IMG_WIDTH=32\n",
        "IMG_HEIGHT=32\n"
      ],
      "execution_count": 5,
      "outputs": []
    },
    {
      "cell_type": "code",
      "metadata": {
        "id": "87x3cdRdbGV4"
      },
      "source": [
        "def create_dataset_PIL(img_folder):\n",
        "    \n",
        "    img_data_array=[]\n",
        "    class_name=[]\n",
        "    for dir1 in os.listdir(img_folder):\n",
        "        for file in os.listdir(os.path.join(img_folder, dir1)):       \n",
        "            image_path= os.path.join(img_folder, dir1,  file)\n",
        "            image= np.array(Image.open(image_path))\n",
        "            image= np.resize(image,(IMG_HEIGHT,IMG_WIDTH,3))\n",
        "            image = image.astype('float32')\n",
        "            image /= 255  \n",
        "            img_data_array.append(image)\n",
        "            class_name.append(dir1)\n",
        "    return img_data_array , class_name"
      ],
      "execution_count": 15,
      "outputs": []
    },
    {
      "cell_type": "code",
      "metadata": {
        "id": "veDX_3h3bGtf"
      },
      "source": [
        "img_train_folder = '/content/drive/MyDrive/Devanagri dataset/DevanagariHandwrittenCharacterDataset/Train'"
      ],
      "execution_count": 7,
      "outputs": []
    },
    {
      "cell_type": "code",
      "metadata": {
        "id": "vN6DZu0EboDa"
      },
      "source": [
        "PIL_train_img_data, train_class_name=create_dataset_PIL(img_train_folder)\n"
      ],
      "execution_count": 16,
      "outputs": []
    },
    {
      "cell_type": "code",
      "metadata": {
        "colab": {
          "base_uri": "https://localhost:8080/"
        },
        "id": "u2yIJulIjcbJ",
        "outputId": "0357b614-a8d3-4979-b858-c5d6b5935772"
      },
      "source": [
        "print(PIL_train_img_data[0])"
      ],
      "execution_count": 17,
      "outputs": [
        {
          "output_type": "stream",
          "name": "stdout",
          "text": [
            "[[[0.         0.         0.        ]\n",
            "  [0.         0.         0.        ]\n",
            "  [0.         0.         0.        ]\n",
            "  ...\n",
            "  [0.         0.         0.        ]\n",
            "  [0.         0.         0.        ]\n",
            "  [0.         0.         0.        ]]\n",
            "\n",
            " [[0.         0.         0.        ]\n",
            "  [0.         0.02745098 0.09019608]\n",
            "  [0.03529412 0.         0.        ]\n",
            "  ...\n",
            "  [0.         0.         0.        ]\n",
            "  [0.         0.         0.        ]\n",
            "  [0.         0.         0.        ]]\n",
            "\n",
            " [[0.         0.         0.18039216]\n",
            "  [0.8862745  1.         0.7647059 ]\n",
            "  [0.09019608 0.         0.        ]\n",
            "  ...\n",
            "  [0.         0.         0.        ]\n",
            "  [0.         0.         0.        ]\n",
            "  [0.         0.         0.        ]]\n",
            "\n",
            " ...\n",
            "\n",
            " [[0.         0.         0.        ]\n",
            "  [0.         0.         0.1764706 ]\n",
            "  [0.9411765  1.         0.99607843]\n",
            "  ...\n",
            "  [1.         0.99607843 0.89411765]\n",
            "  [0.7137255  0.4392157  0.15294118]\n",
            "  [0.02745098 0.         0.        ]]\n",
            "\n",
            " [[0.         0.         0.        ]\n",
            "  [0.         0.         0.        ]\n",
            "  [0.         0.04313726 0.3019608 ]\n",
            "  ...\n",
            "  [0.         0.00392157 0.02352941]\n",
            "  [0.12156863 0.50980395 0.90588236]\n",
            "  [0.84705883 0.         0.        ]]\n",
            "\n",
            " [[0.         0.         0.        ]\n",
            "  [0.         0.         0.        ]\n",
            "  [0.         0.         0.        ]\n",
            "  ...\n",
            "  [0.         0.         0.        ]\n",
            "  [0.         0.         0.        ]\n",
            "  [0.         0.         0.        ]]]\n"
          ]
        }
      ]
    },
    {
      "cell_type": "code",
      "metadata": {
        "colab": {
          "base_uri": "https://localhost:8080/"
        },
        "id": "c2BNHUmQNVwi",
        "outputId": "c70a34b1-e6ae-4585-c9aa-615a543d04da"
      },
      "source": [
        "len(PIL_train_img_data)"
      ],
      "execution_count": 20,
      "outputs": [
        {
          "output_type": "execute_result",
          "data": {
            "text/plain": [
              "7518"
            ]
          },
          "metadata": {},
          "execution_count": 20
        }
      ]
    },
    {
      "cell_type": "code",
      "metadata": {
        "colab": {
          "base_uri": "https://localhost:8080/"
        },
        "id": "qc3cE4HYNZhA",
        "outputId": "ef47291b-3b00-4a18-e99a-157c72ca086c"
      },
      "source": [
        "len(PIL_train_img_data[0])"
      ],
      "execution_count": 21,
      "outputs": [
        {
          "output_type": "execute_result",
          "data": {
            "text/plain": [
              "32"
            ]
          },
          "metadata": {},
          "execution_count": 21
        }
      ]
    },
    {
      "cell_type": "code",
      "metadata": {
        "colab": {
          "base_uri": "https://localhost:8080/"
        },
        "id": "IUd9Xl0HNydY",
        "outputId": "0cc62a85-b8ab-4ec2-93ac-df0809a75c95"
      },
      "source": [
        "len(PIL_train_img_data[0][0])"
      ],
      "execution_count": 22,
      "outputs": [
        {
          "output_type": "execute_result",
          "data": {
            "text/plain": [
              "32"
            ]
          },
          "metadata": {},
          "execution_count": 22
        }
      ]
    },
    {
      "cell_type": "code",
      "metadata": {
        "colab": {
          "base_uri": "https://localhost:8080/"
        },
        "id": "aJm-GmHMN19A",
        "outputId": "7919ab99-3545-43c7-e076-e9f559b24e7e"
      },
      "source": [
        "len(PIL_train_img_data[0][0][0])"
      ],
      "execution_count": 23,
      "outputs": [
        {
          "output_type": "execute_result",
          "data": {
            "text/plain": [
              "3"
            ]
          },
          "metadata": {},
          "execution_count": 23
        }
      ]
    },
    {
      "cell_type": "code",
      "metadata": {
        "id": "A-ivD_5CN9Kg"
      },
      "source": [
        "import tensorflow as tf\n",
        "from matplotlib import pyplot as plt"
      ],
      "execution_count": 25,
      "outputs": []
    },
    {
      "cell_type": "code",
      "metadata": {
        "colab": {
          "base_uri": "https://localhost:8080/",
          "height": 268
        },
        "id": "Qay8zwVVP8fx",
        "outputId": "0a12de4d-ee97-4030-ee93-18e8c411718e"
      },
      "source": [
        "for i in range(9):\n",
        "  plt.subplot(331+i)\n",
        "  plt.imshow(PIL_train_img_data[i+1000])"
      ],
      "execution_count": 41,
      "outputs": [
        {
          "output_type": "display_data",
          "data": {
            "image/png": "[encoded data removed]",
            "text/plain": [
              "<Figure size 432x288 with 9 Axes>"
            ]
          },
          "metadata": {
            "needs_background": "light"
          }
        }
      ]
    },
    {
      "cell_type": "code",
      "metadata": {
        "colab": {
          "base_uri": "https://localhost:8080/",
          "height": 433
        },
        "id": "XknZwaZoQqup",
        "outputId": "be33dd8a-09af-42ff-ec53-c6d033dcc681"
      },
      "source": [
        "dir1=os.listdir(img_train_folder)[0]\n",
        "img_folder=img_train_folder\n",
        "print(dir1)\n",
        "file=os.listdir(os.path.join(img_folder, dir1))[0]\n",
        "image_path= os.path.join(img_folder, dir1,  file)\n",
        "image= np.array(Image.open(image_path))\n",
        "print(image.shape)\n",
        "image = image.astype('float32')\n",
        "image /= 255  \n",
        "print(image)\n",
        "plt.subplot(111)\n",
        "plt.imshow(image)"
      ],
      "execution_count": 99,
      "outputs": [
        {
          "output_type": "stream",
          "name": "stdout",
          "text": [
            "digit_5\n",
            "(32, 32)\n",
            "[[0.         0.         0.         ... 0.         0.         0.        ]\n",
            " [0.         0.         0.         ... 0.         0.         0.        ]\n",
            " [0.         0.         0.         ... 0.         0.         0.        ]\n",
            " ...\n",
            " [0.         0.         0.         ... 0.09803922 0.         0.        ]\n",
            " [0.         0.         0.         ... 0.         0.         0.        ]\n",
            " [0.         0.         0.         ... 0.         0.         0.        ]]\n"
          ]
        },
        {
          "output_type": "execute_result",
          "data": {
            "text/plain": [
              "<matplotlib.image.AxesImage at 0x7f6f16ad9890>"
            ]
          },
          "metadata": {},
          "execution_count": 99
        },
        {
          "output_type": "display_data",
          "data": {
            "image/png": "[encoded data removed]",
            "text/plain": [
              "<Figure size 432x288 with 1 Axes>"
            ]
          },
          "metadata": {
            "needs_background": "light"
          }
        }
      ]
    },
    {
      "cell_type": "code",
      "metadata": {
        "id": "oITtzANwUDc6"
      },
      "source": [
        "model = tf.keras.models.Sequential([tf.keras.layers.Flatten(input_shape=(32,32)), \n",
        "                                    tf.keras.layers.Dense(128, activation='relu'), \n",
        "                                    tf.keras.layers.Dense(46, activation=tf.nn.softmax)])"
      ],
      "execution_count": 69,
      "outputs": []
    },
    {
      "cell_type": "code",
      "metadata": {
        "colab": {
          "base_uri": "https://localhost:8080/"
        },
        "id": "N8wzTxhJXNgz",
        "outputId": "5a9ad1be-3960-4dc2-b6b9-838bb078edab"
      },
      "source": [
        ""
      ],
      "execution_count": 67,
      "outputs": [
        {
          "output_type": "execute_result",
          "data": {
            "text/plain": [
              "7518"
            ]
          },
          "metadata": {},
          "execution_count": 67
        }
      ]
    },
    {
      "cell_type": "code",
      "metadata": {
        "colab": {
          "base_uri": "https://localhost:8080/"
        },
        "id": "y25GekfLXWfD",
        "outputId": "d058bba1-bba9-47b2-dde6-b760af950764"
      },
      "source": [
        "len(os.listdir(img_train_folder))"
      ],
      "execution_count": 68,
      "outputs": [
        {
          "output_type": "execute_result",
          "data": {
            "text/plain": [
              "46"
            ]
          },
          "metadata": {},
          "execution_count": 68
        }
      ]
    },
    {
      "cell_type": "code",
      "metadata": {
        "id": "YpKOWjr7XgeS"
      },
      "source": [
        "model.compile(optimizer = 'adam',\n",
        "              loss = 'sparse_categorical_crossentropy',\n",
        "              metrics=['accuracy'])"
      ],
      "execution_count": 71,
      "outputs": []
    },
    {
      "cell_type": "code",
      "metadata": {
        "colab": {
          "base_uri": "https://localhost:8080/"
        },
        "id": "BILxJIJvX7Ti",
        "outputId": "d8194161-ea88-4356-8c3f-66786ac0f32b"
      },
      "source": [
        "model.fit(imageArr, label , epochs=5)"
      ],
      "execution_count": 97,
      "outputs": [
        {
          "output_type": "stream",
          "name": "stdout",
          "text": [
            "Epoch 1/5\n",
            "1/1 [==============================] - 0s 318ms/step - loss: 3.6514 - accuracy: 0.0000e+00\n",
            "Epoch 2/5\n",
            "1/1 [==============================] - 0s 5ms/step - loss: 2.7935 - accuracy: 0.0000e+00\n",
            "Epoch 3/5\n",
            "1/1 [==============================] - 0s 6ms/step - loss: 2.1026 - accuracy: 1.0000\n",
            "Epoch 4/5\n",
            "1/1 [==============================] - 0s 12ms/step - loss: 1.5458 - accuracy: 1.0000\n",
            "Epoch 5/5\n",
            "1/1 [==============================] - 0s 10ms/step - loss: 1.0994 - accuracy: 1.0000\n"
          ]
        },
        {
          "output_type": "execute_result",
          "data": {
            "text/plain": [
              "<keras.callbacks.History at 0x7f6f175af7d0>"
            ]
          },
          "metadata": {},
          "execution_count": 97
        }
      ]
    },
    {
      "cell_type": "code",
      "metadata": {
        "colab": {
          "base_uri": "https://localhost:8080/",
          "height": 35
        },
        "id": "btb0xsCHYkJ0",
        "outputId": "b75d8d17-cb03-4298-cd18-0b536a5de957"
      },
      "source": [
        "train_class_name[0]"
      ],
      "execution_count": 76,
      "outputs": [
        {
          "output_type": "execute_result",
          "data": {
            "application/vnd.google.colaboratory.intrinsic+json": {
              "type": "string"
            },
            "text/plain": [
              "'digit_5'"
            ]
          },
          "metadata": {},
          "execution_count": 76
        }
      ]
    },
    {
      "cell_type": "code",
      "metadata": {
        "colab": {
          "base_uri": "https://localhost:8080/"
        },
        "id": "KzkV9I1SYoLr",
        "outputId": "f8cdfe1d-6e95-47dd-dd6c-37dfaf819d3b"
      },
      "source": [
        "print(type(image))\n",
        "print(type(train_class_name))"
      ],
      "execution_count": 81,
      "outputs": [
        {
          "output_type": "stream",
          "name": "stdout",
          "text": [
            "<class 'numpy.ndarray'>\n",
            "<class 'list'>\n"
          ]
        }
      ]
    },
    {
      "cell_type": "code",
      "metadata": {
        "colab": {
          "base_uri": "https://localhost:8080/"
        },
        "id": "8iqSnMMqYuRS",
        "outputId": "c9541129-d533-4813-dc18-7955318a293a"
      },
      "source": [
        "label=np.array([5])\n",
        "imageArr=np.array([image])\n",
        "print(type(label))\n",
        "print(label.shape)\n",
        "print(imageArr.shape)"
      ],
      "execution_count": 96,
      "outputs": [
        {
          "output_type": "stream",
          "name": "stdout",
          "text": [
            "<class 'numpy.ndarray'>\n",
            "(1,)\n",
            "(1, 32, 32)\n"
          ]
        }
      ]
    },
    {
      "cell_type": "code",
      "metadata": {
        "colab": {
          "base_uri": "https://localhost:8080/"
        },
        "id": "k18zT1bGZaUb",
        "outputId": "3160edfb-c72a-4052-b15b-e3f64b5a55eb"
      },
      "source": [
        "type(train_class_name[0])"
      ],
      "execution_count": 95,
      "outputs": [
        {
          "output_type": "execute_result",
          "data": {
            "text/plain": [
              "str"
            ]
          },
          "metadata": {},
          "execution_count": 95
        }
      ]
    },
    {
      "cell_type": "code",
      "metadata": {
        "colab": {
          "base_uri": "https://localhost:8080/",
          "height": 400
        },
        "id": "tn4aCPZAbSok",
        "outputId": "a566bf84-e563-450a-e187-8e57094df5f4"
      },
      "source": [
        "file2=os.listdir(os.path.join(img_folder, dir1))[2]\n",
        "image_path2= os.path.join(img_folder, dir1,  file2)\n",
        "image2= np.array(Image.open(image_path2))\n",
        "image2 = image2.astype('float32')\n",
        "image2 /= 255  \n",
        "print(image2)\n",
        "plt.subplot(111)\n",
        "plt.imshow(image2)\n",
        "\n",
        "prediction=model.predict(np.array([image2]))\n",
        "print(np.argmax(prediction[0]))"
      ],
      "execution_count": 100,
      "outputs": [
        {
          "output_type": "stream",
          "name": "stdout",
          "text": [
            "[[0. 0. 0. ... 0. 0. 0.]\n",
            " [0. 0. 0. ... 0. 0. 0.]\n",
            " [0. 0. 0. ... 0. 0. 0.]\n",
            " ...\n",
            " [0. 0. 0. ... 0. 0. 0.]\n",
            " [0. 0. 0. ... 0. 0. 0.]\n",
            " [0. 0. 0. ... 0. 0. 0.]]\n",
            "5\n"
          ]
        },
        {
          "output_type": "display_data",
          "data": {
            "image/png": "[encoded data removed]",
            "text/plain": [
              "<Figure size 432x288 with 1 Axes>"
            ]
          },
          "metadata": {
            "needs_background": "light"
          }
        }
      ]
    },
    {
      "cell_type": "code",
      "metadata": {
        "id": "2qv6Hr0FckRX"
      },
      "source": [
        ""
      ],
      "execution_count": null,
      "outputs": []
    }
  ]
}